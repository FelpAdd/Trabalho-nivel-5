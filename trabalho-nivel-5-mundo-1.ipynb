{
  "nbformat": 4,
  "nbformat_minor": 0,
  "metadata": {
    "colab": {
      "provenance": [],
      "collapsed_sections": [
        "qda2TYt0FNgu"
      ],
      "authorship_tag": "ABX9TyM+toytT6SRn2iR2l+y7tBI"
    },
    "kernelspec": {
      "name": "python3",
      "display_name": "Python 3"
    },
    "language_info": {
      "name": "python"
    }
  },
  "cells": [
    {
      "cell_type": "markdown",
      "source": [
        "# <img src=\"https://encrypted-tbn0.gstatic.com/images?q=tbn:ANd9GcQUV0u0upC5Cf1iAfu4NglyUXt7QeTwt69QrQnw_Ygh&s\">  \n",
        "# **POLO MANILHA - ITABORAÍ - RJ - DESENVOLVIMENTO FULL STACK.**\n",
        "# Turma 2022-03 Mundo 1.\n",
        "Aluno: Felipe Andrade de Oliveira Barroso\n",
        "\n",
        "\n",
        "\n",
        "\n"
      ],
      "metadata": {
        "id": "IEpgnzJiE6ad"
      }
    },
    {
      "cell_type": "markdown",
      "source": [
        "# Objetivo:\n",
        "Implementar um programa para gerar dados com nomes de pessoas e respectivas pontuações. gravar em um arquivo, recuperar os dados do arquivo, visualizar os dados das pontuações das pessoas em um histograma e em uma nuvem de palavras."
      ],
      "metadata": {
        "id": "7MT0DUaJdGvz"
      }
    },
    {
      "cell_type": "markdown",
      "source": [
        "## Trabalho nivel 5 mundo 1."
      ],
      "metadata": {
        "id": "qda2TYt0FNgu"
      }
    },
    {
      "cell_type": "code",
      "execution_count": 1,
      "metadata": {
        "colab": {
          "base_uri": "https://localhost:8080/"
        },
        "id": "M9-h9x7grTNG",
        "outputId": "aac240f1-8367-44d6-bdb6-517eee2358c7"
      },
      "outputs": [
        {
          "output_type": "stream",
          "name": "stdout",
          "text": [
            "Looking in indexes: https://pypi.org/simple, https://us-python.pkg.dev/colab-wheels/public/simple/\n",
            "Collecting Faker\n",
            "  Downloading Faker-15.3.2-py3-none-any.whl (1.6 MB)\n",
            "\u001b[K     |████████████████████████████████| 1.6 MB 17.3 MB/s \n",
            "\u001b[?25hRequirement already satisfied: typing-extensions>=3.10.0.1 in /usr/local/lib/python3.7/dist-packages (from Faker) (4.1.1)\n",
            "Requirement already satisfied: python-dateutil>=2.4 in /usr/local/lib/python3.7/dist-packages (from Faker) (2.8.2)\n",
            "Requirement already satisfied: six>=1.5 in /usr/local/lib/python3.7/dist-packages (from python-dateutil>=2.4->Faker) (1.15.0)\n",
            "Installing collected packages: Faker\n",
            "Successfully installed Faker-15.3.2\n"
          ]
        }
      ],
      "source": [
        "pip install Faker\n"
      ]
    },
    {
      "cell_type": "code",
      "source": [
        "!pip install num2words"
      ],
      "metadata": {
        "colab": {
          "base_uri": "https://localhost:8080/"
        },
        "id": "rO4RfBP5_pUl",
        "outputId": "c2078285-2d30-4fc1-fae9-c5fd08b8074b"
      },
      "execution_count": 2,
      "outputs": [
        {
          "output_type": "stream",
          "name": "stdout",
          "text": [
            "Looking in indexes: https://pypi.org/simple, https://us-python.pkg.dev/colab-wheels/public/simple/\n",
            "Collecting num2words\n",
            "  Downloading num2words-0.5.12-py3-none-any.whl (125 kB)\n",
            "\u001b[K     |████████████████████████████████| 125 kB 19.7 MB/s \n",
            "\u001b[?25hCollecting docopt>=0.6.2\n",
            "  Downloading docopt-0.6.2.tar.gz (25 kB)\n",
            "Building wheels for collected packages: docopt\n",
            "  Building wheel for docopt (setup.py) ... \u001b[?25l\u001b[?25hdone\n",
            "  Created wheel for docopt: filename=docopt-0.6.2-py2.py3-none-any.whl size=13723 sha256=8efbc17d3e19bf25303cf34208a78eaf8e9d975037914a2c0ef4e344efce9e68\n",
            "  Stored in directory: /root/.cache/pip/wheels/72/b0/3f/1d95f96ff986c7dfffe46ce2be4062f38ebd04b506c77c81b9\n",
            "Successfully built docopt\n",
            "Installing collected packages: docopt, num2words\n",
            "Successfully installed docopt-0.6.2 num2words-0.5.12\n"
          ]
        }
      ]
    },
    {
      "cell_type": "code",
      "source": [
        "!pip install wordcloud -q\n",
        "\n",
        "                "
      ],
      "metadata": {
        "id": "nrSyHTghurSB"
      },
      "execution_count": 3,
      "outputs": []
    },
    {
      "cell_type": "code",
      "source": [
        "from faker import Faker\n",
        "import matplotlib.pyplot as plt \n",
        "import numpy as np\n",
        "from num2words import num2words\n",
        "from wordcloud import WordCloud"
      ],
      "metadata": {
        "id": "AEn4Tj_iwGUr"
      },
      "execution_count": 4,
      "outputs": []
    },
    {
      "cell_type": "code",
      "source": [
        "quantidade = 10\n",
        "locales = 'pt-BR'\n",
        "fake = Faker(locales)"
      ],
      "metadata": {
        "id": "w_eArrFQ1fe_"
      },
      "execution_count": 5,
      "outputs": []
    },
    {
      "cell_type": "code",
      "source": [
        "with open(\"alunos.txt\", \"w\") as arquivo:\n",
        "    for x in range(1,11):\n",
        "      aluno ='nome: '+ fake.name()+\", nota: \"+ str(fake.random.randint(0,10))+\" \\n\" #Variavel aluno esta gerando uma visualização melhor.\n",
        "      arquivo.write(aluno)\n",
        "      \n",
        "      \n"
      ],
      "metadata": {
        "id": "bT5ra0n-z4J5"
      },
      "execution_count": 6,
      "outputs": []
    },
    {
      "cell_type": "code",
      "source": [
        "from os import name \n",
        "with open(\"alunos.txt\", \"r\") as arquivo:\n",
        "  lista_de_notas = []\n",
        "  for x in range(1,11): #Para cada elemento dentro do espaço de 1 a 11 eu vou fazer oque esta nas linhas abaixo.\n",
        "    conteudo = arquivo.readline() #Lendo cada linha do arquivo.\n",
        "    notas = conteudo.split(' ') #Separando cada item da linha do arquivo através do espaço.\n",
        "    lista_de_notas.append(int(notas[-2])) #Adicionando as numeros que estão no index-2 da variavel notas numa lista e transformando em numeros.\n",
        "\n",
        "  plt.title('histograma das pontuações')\n",
        "  plt.xlabel('pontuações')\n",
        "  plt.ylabel('probabilidade')\n",
        "  plt.xticks(np.arange(0,11,step=2))\n",
        "  plt.hist(lista_de_notas,density=True)\n",
        "  plt.show()"
      ],
      "metadata": {
        "id": "m6fqONORfBpp",
        "colab": {
          "base_uri": "https://localhost:8080/",
          "height": 295
        },
        "outputId": "a7812920-fb22-435e-9082-31ee374eae1d"
      },
      "execution_count": 7,
      "outputs": [
        {
          "output_type": "display_data",
          "data": {
            "text/plain": [
              "<Figure size 432x288 with 1 Axes>"
            ],
            "image/png": "[encoded data removed]"
          },
          "metadata": {
            "needs_background": "light"
          }
        }
      ]
    },
    {
      "cell_type": "code",
      "source": [
        "numeros = []\n",
        "for x in lista_de_notas:\n",
        "  numeros.append(num2words(x,lang='pt-br'))\n",
        "notas = ', '.join(p for p in numeros)\n",
        "wordcloud = WordCloud().generate(notas)\n",
        "plt.imshow(wordcloud,interpolation='bilinear')\n",
        "plt.axis('off')\n",
        "plt.show()\n",
        "wordcloud.to_file('nuvem de palavras.png')\n",
        "     "
      ],
      "metadata": {
        "colab": {
          "base_uri": "https://localhost:8080/",
          "height": 216
        },
        "id": "JT15hhj365Dm",
        "outputId": "2e1a791a-f385-4e3a-869a-8176d6e0e4ef"
      },
      "execution_count": 8,
      "outputs": [
        {
          "output_type": "display_data",
          "data": {
            "text/plain": [
              "<Figure size 432x288 with 1 Axes>"
            ],
            "image/png": "[encoded data removed]"
          },
          "metadata": {
            "needs_background": "light"
          }
        },
        {
          "output_type": "execute_result",
          "data": {
            "text/plain": [
              "<wordcloud.wordcloud.WordCloud at 0x7f1c8d111a10>"
            ]
          },
          "metadata": {},
          "execution_count": 8
        }
      ]
    },
    {
      "cell_type": "markdown",
      "source": [
        "#Análise e conclusão.\n",
        "### Qual a importância de manipular arquivos de texto?\n",
        "\n",
        "#### R: É de grande importância para qualquer desenvolvedor saber manipular arquivos, seja para criar backups, consumir uma lista de alguma planilha ou qualquer motivo que seja. Por isso, a maioria das linguagens de programação possuem meios para essa manipulação.\n",
        "\n",
        "# Qual a importância de visualizar os dados em um histograma?\n",
        "\n",
        "#### R: Facilitar a visualização de um volumoso grupo de dados.\n",
        "\n",
        "# O que significa a visualização por nuvem de palavras?\n",
        "\n",
        "#### R: A nuvem de palavras é uma representação visual das palavras e frases mais comuns das respostas abertas.\n"
      ],
      "metadata": {
        "id": "mBZhzs0fEbBm"
      }
    }
  ]
}